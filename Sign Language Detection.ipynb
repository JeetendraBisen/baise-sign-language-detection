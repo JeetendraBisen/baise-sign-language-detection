{
 "cells": [
  {
   "cell_type": "markdown",
   "id": "74b4d887",
   "metadata": {},
   "source": [
    "# import libraries "
   ]
  },
  {
   "cell_type": "code",
   "execution_count": 1,
   "id": "56462438",
   "metadata": {},
   "outputs": [],
   "source": [
    "import cv2\n",
    "import numpy as np\n",
    "import os\n",
    "from matplotlib import pyplot as plt\n",
    "import time \n",
    "import mediapipe as mp"
   ]
  },
  {
   "cell_type": "markdown",
   "id": "38a410a9",
   "metadata": {},
   "source": [
    "# keypoints using mp holistics"
   ]
  },
  {
   "cell_type": "code",
   "execution_count": 2,
   "id": "abe279bf",
   "metadata": {},
   "outputs": [],
   "source": [
    "webcam = cv2.VideoCapture(0)\n",
    "key = cv2.waitKey(1)"
   ]
  },
  {
   "cell_type": "code",
   "execution_count": 3,
   "id": "3965019d",
   "metadata": {},
   "outputs": [],
   "source": [
    "#holistics model\n",
    "mp_holistics = mp.solutions.holistic\n",
    "\n",
    "#drawing utilites\n",
    "mp_drawing = mp.solutions.drawing_utils"
   ]
  },
  {
   "cell_type": "code",
   "execution_count": 4,
   "id": "d29b33ae",
   "metadata": {},
   "outputs": [],
   "source": [
    "def mediapipe_detection(image, model):\n",
    "    \n",
    "    #converting the image to rgb from bgr\n",
    "    image = cv2.cvtColor(image, cv2.COLOR_BGR2RGB)\n",
    "    \n",
    "    #setting image to be not writable\n",
    "    image.flags.writeable = False\n",
    "    #make prediction\n",
    "    results = model.process(image)\n",
    "    #setting image to be writable\n",
    "    image.flags.writeable = True\n",
    "    \n",
    "    #converting the image back to bgr from rgb\n",
    "    image = cv2.cvtColor(image, cv2.COLOR_RGB2BGR)\n",
    "    return image, results"
   ]
  },
  {
   "cell_type": "code",
   "execution_count": 5,
   "id": "7642298d",
   "metadata": {},
   "outputs": [],
   "source": [
    "def draw_landmark(image, results):\n",
    "    # drawing face connectings\n",
    "    mp_drawing.draw_landmarks(image, results.face_landmarks, mp_holistics.FACEMESH_TESSELATION)\n",
    "    # drawing pose connectings\n",
    "    mp_drawing.draw_landmarks(image, results.pose_landmarks, mp_holistics.POSE_CONNECTIONS)\n",
    "    # drawing left-hand connectings\n",
    "    mp_drawing.draw_landmarks(image, results.left_hand_landmarks, mp_holistics.HAND_CONNECTIONS)\n",
    "    # drawing right-hand connectings\n",
    "    mp_drawing.draw_landmarks(image, results.right_hand_landmarks, mp_holistics.HAND_CONNECTIONS)"
   ]
  },
  {
   "cell_type": "code",
   "execution_count": 6,
   "id": "552b9ee9",
   "metadata": {},
   "outputs": [],
   "source": [
    "def draw_styled_landmark(image, results):\n",
    "    # drawing face connectings\n",
    "    mp_drawing.draw_landmarks(image, results.face_landmarks, mp_holistics.FACEMESH_TESSELATION,\n",
    "                             mp_drawing.DrawingSpec(color=(100,100,100), thickness=1, circle_radius=1),# to color lankmark\n",
    "                             mp_drawing.DrawingSpec(color=(10,256,121), thickness=1, circle_radius=1))# to color connections\n",
    "    # drawing pose connectings\n",
    "    mp_drawing.draw_landmarks(image, results.pose_landmarks, mp_holistics.POSE_CONNECTIONS,\n",
    "                             mp_drawing.DrawingSpec(color=(150,150,150), thickness=2, circle_radius=2),\n",
    "                             mp_drawing.DrawingSpec(color=(67,56,221), thickness=2, circle_radius=4))\n",
    "    # drawing left-hand connectings\n",
    "    mp_drawing.draw_landmarks(image, results.left_hand_landmarks, mp_holistics.HAND_CONNECTIONS,\n",
    "                             mp_drawing.DrawingSpec(color=(190,190,190), thickness=1, circle_radius=3),\n",
    "                             mp_drawing.DrawingSpec(color=(121,256,221), thickness=2, circle_radius=3))\n",
    "    # drawing right-hand connectings\n",
    "    mp_drawing.draw_landmarks(image, results.right_hand_landmarks, mp_holistics.HAND_CONNECTIONS,\n",
    "                             mp_drawing.DrawingSpec(color=(197,180,0), thickness=2, circle_radius=3),\n",
    "                             mp_drawing.DrawingSpec(color=(100,256,121), thickness=2, circle_radius=3))"
   ]
  },
  {
   "cell_type": "code",
   "execution_count": 7,
   "id": "ff88be76",
   "metadata": {},
   "outputs": [],
   "source": [
    "mp_drawing.draw_landmarks??"
   ]
  },
  {
   "cell_type": "code",
   "execution_count": 81,
   "id": "50003e21",
   "metadata": {},
   "outputs": [],
   "source": [
    "#setting mediapipe model\n",
    "with mp_holistics.Holistic(min_detection_confidence=0.5, min_tracking_confidence=0.5) as holistics:\n",
    "    while webcam.isOpened():\n",
    "\n",
    "        #read feed\n",
    "        successfull_frame_read, frame = webcam.read()\n",
    "\n",
    "        #make detections\n",
    "        image, results = mediapipe_detection(frame, holistics)\n",
    "        \n",
    "        #draw landmark\n",
    "        draw_styled_landmark(image, results)\n",
    "\n",
    "        cv2.imshow('live feed', image)\n",
    "        key = cv2.waitKey(1)\n",
    "\n",
    "\n",
    "        # stop if q key is pressed\n",
    "        if key == 81 or key == 113:\n",
    "            break\n",
    "# release the videocapture object\n",
    "webcam.release()\n",
    "cv2.destroyAllWindows()\n"
   ]
  },
  {
   "cell_type": "code",
   "execution_count": 9,
   "id": "15f206fd",
   "metadata": {},
   "outputs": [
    {
     "data": {
      "text/plain": [
       "33"
      ]
     },
     "execution_count": 9,
     "metadata": {},
     "output_type": "execute_result"
    }
   ],
   "source": [
    "len(results.pose_landmarks.landmark)"
   ]
  },
  {
   "cell_type": "code",
   "execution_count": 10,
   "id": "e810aca9",
   "metadata": {
    "scrolled": true
   },
   "outputs": [
    {
     "data": {
      "text/plain": [
       "array([[[ 67,  94,  31],\n",
       "        [ 65,  92,  30],\n",
       "        [ 63,  89,  28],\n",
       "        ...,\n",
       "        [146, 158, 100],\n",
       "        [146, 158, 100],\n",
       "        [148, 160, 102]],\n",
       "\n",
       "       [[ 65,  92,  29],\n",
       "        [ 63,  90,  28],\n",
       "        [ 60,  86,  25],\n",
       "        ...,\n",
       "        [148, 159, 102],\n",
       "        [147, 158, 101],\n",
       "        [147, 158, 101]],\n",
       "\n",
       "       [[ 64,  89,  27],\n",
       "        [ 61,  86,  24],\n",
       "        [ 62,  87,  26],\n",
       "        ...,\n",
       "        [150, 161, 106],\n",
       "        [148, 159, 103],\n",
       "        [147, 158, 102]],\n",
       "\n",
       "       ...,\n",
       "\n",
       "       [[ 23,  17,   0],\n",
       "        [ 21,  15,   0],\n",
       "        [ 20,  14,   0],\n",
       "        ...,\n",
       "        [  2,   3,   0],\n",
       "        [  3,   3,   0],\n",
       "        [  4,   3,   0]],\n",
       "\n",
       "       [[ 21,  14,   0],\n",
       "        [ 20,  13,   0],\n",
       "        [ 20,  13,   0],\n",
       "        ...,\n",
       "        [  2,   3,   0],\n",
       "        [  3,   3,   0],\n",
       "        [  4,   3,   0]],\n",
       "\n",
       "       [[ 20,  13,   0],\n",
       "        [ 20,  13,   0],\n",
       "        [ 20,  13,   0],\n",
       "        ...,\n",
       "        [  2,   3,   0],\n",
       "        [  3,   3,   0],\n",
       "        [  4,   3,   0]]], dtype=uint8)"
      ]
     },
     "execution_count": 10,
     "metadata": {},
     "output_type": "execute_result"
    }
   ],
   "source": [
    "frame"
   ]
  },
  {
   "cell_type": "code",
   "execution_count": 11,
   "id": "ad3475e4",
   "metadata": {},
   "outputs": [],
   "source": [
    "draw_styled_landmark(frame, results)"
   ]
  },
  {
   "cell_type": "code",
   "execution_count": 12,
   "id": "031428df",
   "metadata": {},
   "outputs": [
    {
     "data": {
      "text/plain": [
       "<matplotlib.image.AxesImage at 0x23d20beec10>"
      ]
     },
     "execution_count": 12,
     "metadata": {},
     "output_type": "execute_result"
    },
    {
     "data": {
      "image/png": "[encoded data removed]",
      "text/plain": [
       "<Figure size 432x288 with 1 Axes>"
      ]
     },
     "metadata": {
      "needs_background": "light"
     },
     "output_type": "display_data"
    }
   ],
   "source": [
    "plt.imshow(cv2.cvtColor(frame, cv2.COLOR_BGR2RGB))"
   ]
  },
  {
   "cell_type": "markdown",
   "id": "028764e0",
   "metadata": {},
   "source": [
    "# Extract keypoint values"
   ]
  },
  {
   "cell_type": "code",
   "execution_count": 13,
   "id": "92f7f024",
   "metadata": {
    "scrolled": true
   },
   "outputs": [
    {
     "data": {
      "text/plain": [
       "x: 0.601251482963562\n",
       "y: 0.48564884066581726\n",
       "z: -0.47622114419937134\n",
       "visibility: 0.9998623728752136"
      ]
     },
     "execution_count": 13,
     "metadata": {},
     "output_type": "execute_result"
    }
   ],
   "source": [
    "results.pose_landmarks.landmark[0]"
   ]
  },
  {
   "cell_type": "code",
   "execution_count": 14,
   "id": "e1fc269e",
   "metadata": {},
   "outputs": [],
   "source": [
    "pose =[]\n",
    "for res in results.pose_landmarks.landmark:\n",
    "    test = np.array([res.x, res.y, res.z, res.visibility])\n",
    "    pose.append(test)\n"
   ]
  },
  {
   "cell_type": "code",
   "execution_count": 15,
   "id": "592696a4",
   "metadata": {
    "scrolled": true
   },
   "outputs": [
    {
     "data": {
      "text/plain": [
       "[array([ 0.60125148,  0.48564884, -0.47622114,  0.99986237]),\n",
       " array([ 0.61058849,  0.4274388 , -0.41718775,  0.99975079]),\n",
       " array([ 0.6207732 ,  0.42554978, -0.41700801,  0.99964821]),\n",
       " array([ 0.63130987,  0.42349768, -0.41702938,  0.99968857]),\n",
       " array([ 0.56983238,  0.42664117, -0.42385808,  0.99981368]),\n",
       " array([ 0.54972023,  0.42436096, -0.42337975,  0.99978405]),\n",
       " array([ 0.5287199 ,  0.42111686, -0.423832  ,  0.99987125]),\n",
       " array([ 0.63647252,  0.43106046, -0.0715993 ,  0.99967963]),\n",
       " array([ 0.49021435,  0.42331818, -0.07311007,  0.99991876]),\n",
       " array([ 0.61968726,  0.53501856, -0.34652093,  0.9997164 ]),\n",
       " array([ 0.56589913,  0.53168255, -0.35024756,  0.999874  ]),\n",
       " array([0.72821617, 0.62479329, 0.08129301, 0.99749589]),\n",
       " array([0.34607288, 0.6869123 , 0.00561191, 0.99945515]),\n",
       " array([ 0.92376387,  0.76834208, -0.26202029,  0.91863251]),\n",
       " array([ 0.14392175,  0.85144496, -0.59317029,  0.99529278]),\n",
       " array([ 0.80860794,  0.44532558, -0.51144826,  0.97520405]),\n",
       " array([ 0.40552911,  0.46921495, -1.13143265,  0.99535221]),\n",
       " array([ 0.80243003,  0.36093816, -0.58678782,  0.9278698 ]),\n",
       " array([ 0.4458437 ,  0.35566914, -1.25257313,  0.98461664]),\n",
       " array([ 0.76785302,  0.34155321, -0.46331272,  0.92181879]),\n",
       " array([ 0.45833415,  0.33472103, -1.11095464,  0.98424864]),\n",
       " array([ 0.76317251,  0.37951657, -0.47988445,  0.92369705]),\n",
       " array([ 0.45935172,  0.37786511, -1.09244049,  0.98200464]),\n",
       " array([ 0.66138905,  1.40584993, -0.08127781,  0.01434414]),\n",
       " array([0.38688785, 1.4071182 , 0.08511074, 0.02066117]),\n",
       " array([ 0.66507989,  2.03567696, -0.16578436,  0.00231637]),\n",
       " array([0.42091855, 2.04991555, 0.22391379, 0.00253849]),\n",
       " array([6.72537446e-01, 2.60524917e+00, 2.59227395e-01, 2.43351184e-04]),\n",
       " array([4.43962812e-01, 2.61374903e+00, 6.24649167e-01, 9.07433787e-05]),\n",
       " array([6.73555732e-01, 2.67770886e+00, 2.67867446e-01, 1.29601118e-04]),\n",
       " array([4.37351048e-01, 2.68146563e+00, 6.56254411e-01, 1.95821907e-04]),\n",
       " array([ 6.60939813e-01,  2.78920436e+00, -2.89061934e-01,  3.21961357e-04]),\n",
       " array([4.93994147e-01, 2.81461477e+00, 5.05574867e-02, 4.11350193e-04])]"
      ]
     },
     "execution_count": 15,
     "metadata": {},
     "output_type": "execute_result"
    }
   ],
   "source": [
    "pose"
   ]
  },
  {
   "cell_type": "code",
   "execution_count": 19,
   "id": "b798af5a",
   "metadata": {
    "scrolled": true
   },
   "outputs": [
    {
     "data": {
      "text/plain": [
       "array([ 6.01251483e-01,  4.85648841e-01, -4.76221144e-01,  9.99862373e-01,\n",
       "        6.10588491e-01,  4.27438796e-01, -4.17187750e-01,  9.99750793e-01,\n",
       "        6.20773196e-01,  4.25549775e-01, -4.17008013e-01,  9.99648213e-01,\n",
       "        6.31309867e-01,  4.23497677e-01, -4.17029381e-01,  9.99688566e-01,\n",
       "        5.69832385e-01,  4.26641166e-01, -4.23858076e-01,  9.99813676e-01,\n",
       "        5.49720228e-01,  4.24360961e-01, -4.23379749e-01,  9.99784052e-01,\n",
       "        5.28719902e-01,  4.21116859e-01, -4.23831999e-01,  9.99871254e-01,\n",
       "        6.36472523e-01,  4.31060463e-01, -7.15993047e-02,  9.99679625e-01,\n",
       "        4.90214348e-01,  4.23318177e-01, -7.31100664e-02,  9.99918759e-01,\n",
       "        6.19687259e-01,  5.35018563e-01, -3.46520931e-01,  9.99716401e-01,\n",
       "        5.65899134e-01,  5.31682551e-01, -3.50247562e-01,  9.99873996e-01,\n",
       "        7.28216171e-01,  6.24793291e-01,  8.12930092e-02,  9.97495890e-01,\n",
       "        3.46072882e-01,  6.86912298e-01,  5.61191468e-03,  9.99455154e-01,\n",
       "        9.23763871e-01,  7.68342078e-01, -2.62020290e-01,  9.18632507e-01,\n",
       "        1.43921748e-01,  8.51444960e-01, -5.93170285e-01,  9.95292783e-01,\n",
       "        8.08607936e-01,  4.45325583e-01, -5.11448264e-01,  9.75204051e-01,\n",
       "        4.05529112e-01,  4.69214946e-01, -1.13143265e+00,  9.95352209e-01,\n",
       "        8.02430034e-01,  3.60938162e-01, -5.86787820e-01,  9.27869797e-01,\n",
       "        4.45843697e-01,  3.55669141e-01, -1.25257313e+00,  9.84616637e-01,\n",
       "        7.67853022e-01,  3.41553211e-01, -4.63312715e-01,  9.21818793e-01,\n",
       "        4.58334148e-01,  3.34721029e-01, -1.11095464e+00,  9.84248638e-01,\n",
       "        7.63172507e-01,  3.79516572e-01, -4.79884446e-01,  9.23697054e-01,\n",
       "        4.59351718e-01,  3.77865106e-01, -1.09244049e+00,  9.82004642e-01,\n",
       "        6.61389053e-01,  1.40584993e+00, -8.12778100e-02,  1.43441409e-02,\n",
       "        3.86887848e-01,  1.40711820e+00,  8.51107389e-02,  2.06611734e-02,\n",
       "        6.65079892e-01,  2.03567696e+00, -1.65784359e-01,  2.31636874e-03,\n",
       "        4.20918554e-01,  2.04991555e+00,  2.23913789e-01,  2.53849081e-03,\n",
       "        6.72537446e-01,  2.60524917e+00,  2.59227395e-01,  2.43351184e-04,\n",
       "        4.43962812e-01,  2.61374903e+00,  6.24649167e-01,  9.07433787e-05,\n",
       "        6.73555732e-01,  2.67770886e+00,  2.67867446e-01,  1.29601118e-04,\n",
       "        4.37351048e-01,  2.68146563e+00,  6.56254411e-01,  1.95821907e-04,\n",
       "        6.60939813e-01,  2.78920436e+00, -2.89061934e-01,  3.21961357e-04,\n",
       "        4.93994147e-01,  2.81461477e+00,  5.05574867e-02,  4.11350193e-04])"
      ]
     },
     "execution_count": 19,
     "metadata": {},
     "output_type": "execute_result"
    }
   ],
   "source": [
    "pose"
   ]
  },
  {
   "cell_type": "code",
   "execution_count": 20,
   "id": "7fdc0cb5",
   "metadata": {},
   "outputs": [
    {
     "data": {
      "text/plain": [
       "(132,)"
      ]
     },
     "execution_count": 20,
     "metadata": {},
     "output_type": "execute_result"
    }
   ],
   "source": [
    "pose.shape"
   ]
  },
  {
   "cell_type": "code",
   "execution_count": 21,
   "id": "cc0d17fd",
   "metadata": {
    "scrolled": false
   },
   "outputs": [
    {
     "data": {
      "text/plain": [
       "21"
      ]
     },
     "execution_count": 21,
     "metadata": {},
     "output_type": "execute_result"
    }
   ],
   "source": [
    "len(results.left_hand_landmarks.landmark)"
   ]
  },
  {
   "cell_type": "code",
   "execution_count": 23,
   "id": "717a3bf9",
   "metadata": {},
   "outputs": [
    {
     "data": {
      "text/plain": [
       "21"
      ]
     },
     "execution_count": 23,
     "metadata": {},
     "output_type": "execute_result"
    }
   ],
   "source": [
    "len(results.right_hand_landmarks.landmark)"
   ]
  },
  {
   "cell_type": "code",
   "execution_count": 36,
   "id": "976b0438",
   "metadata": {},
   "outputs": [
    {
     "data": {
      "text/plain": [
       "1404"
      ]
     },
     "execution_count": 36,
     "metadata": {},
     "output_type": "execute_result"
    }
   ],
   "source": [
    "len(results.face_landmarks.landmark)*3"
   ]
  },
  {
   "cell_type": "code",
   "execution_count": 85,
   "id": "f7630c7d",
   "metadata": {
    "scrolled": true
   },
   "outputs": [],
   "source": [
    "def extract_keypoints(results):\n",
    "\n",
    "    # extracting the keypoint and converting it to np array to avoid error if any part of the pose is not in the frame\n",
    "    pose =np.array([[res.x, res.y, res.z, res.visibility] for res in results.pose_landmarks.landmark]).flatten() if results.pose_landmarks  else np.zeros(132)\n",
    "\n",
    "    # extracting the keypoint and converting it to np array to avoid error if any part of the right hand is not in the frame\n",
    "    r_hand = np.array([[res.x, res.y, res.z] for res in results.right_hand_landmarks.landmark]).flatten() if results.right_hand_landmarks else np.zeros(21*3)\n",
    "    \n",
    "    # extracting the keypoint and converting it to np array to avoid error if any part of the left hand is not in the frame\n",
    "    l_hand = np.array([[res.x, res.y, res.z] for res in results.left_hand_landmarks.landmark]).flatten() if results.left_hand_landmarks else np.zeros(21*3)\n",
    "    \n",
    "    # extracting the keypoint and converting it to np array to avoid error if the face is not in the frame\n",
    "    face = np.array([[res.x, res.y, res.z] for res in results.face_landmarks.landmark]).flatten() if results.face_landmarks  else np.zeros(1404)\n",
    "    return np.concatenate([pose, face ,l_hand, r_hand])"
   ]
  },
  {
   "cell_type": "code",
   "execution_count": 47,
   "id": "bf6c64d3",
   "metadata": {},
   "outputs": [
    {
     "data": {
      "text/plain": [
       "(1662,)"
      ]
     },
     "execution_count": 47,
     "metadata": {},
     "output_type": "execute_result"
    }
   ],
   "source": [
    "extract_keypoints(results).shape"
   ]
  },
  {
   "cell_type": "code",
   "execution_count": 66,
   "id": "299e6d88",
   "metadata": {},
   "outputs": [],
   "source": [
    "result_test = extract_keypoints(results)"
   ]
  },
  {
   "cell_type": "code",
   "execution_count": 67,
   "id": "70089e31",
   "metadata": {},
   "outputs": [],
   "source": [
    "np.save('0', result_test)"
   ]
  },
  {
   "cell_type": "code",
   "execution_count": 68,
   "id": "638afa1a",
   "metadata": {},
   "outputs": [
    {
     "data": {
      "text/plain": [
       "array([ 0.60125148,  0.48564884, -0.47622114, ...,  0.41911766,\n",
       "        0.16563316, -0.0231503 ])"
      ]
     },
     "execution_count": 68,
     "metadata": {},
     "output_type": "execute_result"
    }
   ],
   "source": [
    "np.load('0.npy')"
   ]
  },
  {
   "cell_type": "markdown",
   "id": "7006dd43",
   "metadata": {},
   "source": [
    "# Setting up folders for collection"
   ]
  },
  {
   "cell_type": "code",
   "execution_count": 89,
   "id": "1b99173f",
   "metadata": {},
   "outputs": [],
   "source": [
    "# path for exported data, np array\n",
    "data_path = os.path.join('MP_Data')\n",
    "\n",
    "# action we try to detect\n",
    "actions = np.array(['hello', 'thanks', 'iloveyou','seeyoulater', 'yes', 'no', 'help','please'])\n",
    "\n",
    "#15 videos worth of data\n",
    "no_sequence = 15\n",
    "\n",
    "# 20 frames in a video\n",
    "sequence_length = 15"
   ]
  },
  {
   "cell_type": "code",
   "execution_count": 90,
   "id": "e42f0eae",
   "metadata": {},
   "outputs": [],
   "source": [
    "for action in actions:\n",
    "    for sequence in range(no_sequence):\n",
    "        try:\n",
    "            os.makedirs(os.path.join(data_path, action, str(sequence)))\n",
    "        except:\n",
    "            pass"
   ]
  },
  {
   "cell_type": "markdown",
   "id": "12d8c83c",
   "metadata": {},
   "source": [
    "# Collect keypoint values for training and testing"
   ]
  },
  {
   "cell_type": "code",
   "execution_count": 91,
   "id": "1096525f",
   "metadata": {},
   "outputs": [],
   "source": [
    "webcam = cv2.VideoCapture(0)\n",
    "\n",
    "#setting mediapipe model\n",
    "with mp_holistics.Holistic(min_detection_confidence=0.5, min_tracking_confidence=0.5) as holistics:\n",
    "    \n",
    "    # loop through actions\n",
    "    for action in actions:\n",
    "        #loop through  video(sequence)\n",
    "        for sequence in range(no_sequence):\n",
    "            #loop through video(sequence) length\n",
    "            for no_frame in range(sequence_length):\n",
    "\n",
    "                #read feed\n",
    "                successfull_frame_read, frame = webcam.read()\n",
    "\n",
    "                #make detections\n",
    "                image, results = mediapipe_detection(frame, holistics)\n",
    "\n",
    "                #draw landmark\n",
    "                draw_styled_landmark(image, results)\n",
    "                \n",
    "                #applying wait logic\n",
    "                if no_frame==0:\n",
    "                    cv2.putText(image,'STARTING COLLECTION', (120,200),\n",
    "                               cv2.FONT_HERSHEY_SIMPLEX, 1, (0,255,0),4, cv2.LINE_AA)\n",
    "                    cv2.putText(image, 'Collecting frame for {} video number {}'.format(action, sequence), (15,12),\n",
    "                               cv2.FONT_HERSHEY_SIMPLEX, 0.5, (0,0,255),1, cv2.LINE_AA)\n",
    "                    cv2.imshow('live feed', image)\n",
    "                    cv2.waitKey(2000)\n",
    "                else:\n",
    "                    cv2.putText(image, 'Collecting frame for {} video number {}'.format(action, sequence), (15,12),\n",
    "                               cv2.FONT_HERSHEY_SIMPLEX, 0.5, (0,0,255),1, cv2.LINE_AA)\n",
    "                    cv2.imshow('live feed', image)\n",
    "                    \n",
    "                    \n",
    "                \n",
    "                #export keypoints\n",
    "                keypoints = extract_keypoints(results)\n",
    "                npy_path = os.path.join(data_path,action, str(sequence), str(no_frame))\n",
    "                np.save(npy_path, keypoints)\n",
    "                \n",
    "\n",
    "                \n",
    "\n",
    "                key = cv2.waitKey(1)\n",
    "                # stop if q key is pressed\n",
    "                if key == 81 or key == 113:\n",
    "                    break\n",
    "# release the videocapture object\n",
    "webcam.release()\n",
    "cv2.destroyAllWindows()"
   ]
  },
  {
   "cell_type": "markdown",
   "id": "85b7ad62",
   "metadata": {},
   "source": [
    "# Preprocessing data and Create Labels and features"
   ]
  },
  {
   "cell_type": "code",
   "execution_count": 92,
   "id": "7a84350c",
   "metadata": {},
   "outputs": [],
   "source": [
    "from sklearn.model_selection import train_test_split\n",
    "from tensorflow.keras.utils import to_categorical"
   ]
  },
  {
   "cell_type": "code",
   "execution_count": 93,
   "id": "d08d5993",
   "metadata": {},
   "outputs": [],
   "source": [
    "label_map = {label:num for num, label in enumerate(actions)}"
   ]
  },
  {
   "cell_type": "code",
   "execution_count": 94,
   "id": "3160b9f1",
   "metadata": {},
   "outputs": [
    {
     "data": {
      "text/plain": [
       "{'hello': 0,\n",
       " 'thanks': 1,\n",
       " 'iloveyou': 2,\n",
       " 'seeyoulater': 3,\n",
       " 'yes': 4,\n",
       " 'no': 5,\n",
       " 'help': 6,\n",
       " 'please': 7}"
      ]
     },
     "execution_count": 94,
     "metadata": {},
     "output_type": "execute_result"
    }
   ],
   "source": [
    "label_map"
   ]
  },
  {
   "cell_type": "code",
   "execution_count": 96,
   "id": "f0c10f72",
   "metadata": {},
   "outputs": [],
   "source": [
    "features, labels = [],[]\n",
    "for action in actions:\n",
    "    for sequence in range(no_sequence):\n",
    "        window =[]\n",
    "        for no_frame in range(sequence_length):\n",
    "            res = np.load(os.path.join(data_path, action, str(sequence), \"{}.npy\".format(no_frame)))\n",
    "            window.append(res)\n",
    "        features.append(window)\n",
    "        labels.append(label_map[action])"
   ]
  },
  {
   "cell_type": "code",
   "execution_count": 100,
   "id": "f1aa6057",
   "metadata": {},
   "outputs": [
    {
     "data": {
      "text/plain": [
       "(120, 15, 1662)"
      ]
     },
     "execution_count": 100,
     "metadata": {},
     "output_type": "execute_result"
    }
   ],
   "source": [
    "x=np.array(features)\n",
    "x.shape"
   ]
  },
  {
   "cell_type": "code",
   "execution_count": 102,
   "id": "29528a52",
   "metadata": {},
   "outputs": [
    {
     "data": {
      "text/plain": [
       "(120,)"
      ]
     },
     "execution_count": 102,
     "metadata": {},
     "output_type": "execute_result"
    }
   ],
   "source": [
    "np.array(labels).shape"
   ]
  },
  {
   "cell_type": "code",
   "execution_count": 103,
   "id": "904a04bb",
   "metadata": {},
   "outputs": [],
   "source": [
    "y = to_categorical(labels).astype(int)"
   ]
  },
  {
   "cell_type": "code",
   "execution_count": 104,
   "id": "793ceb41",
   "metadata": {},
   "outputs": [
    {
     "data": {
      "text/plain": [
       "array([[1, 0, 0, 0, 0, 0, 0, 0],\n",
       "       [1, 0, 0, 0, 0, 0, 0, 0],\n",
       "       [1, 0, 0, 0, 0, 0, 0, 0],\n",
       "       [1, 0, 0, 0, 0, 0, 0, 0],\n",
       "       [1, 0, 0, 0, 0, 0, 0, 0],\n",
       "       [1, 0, 0, 0, 0, 0, 0, 0],\n",
       "       [1, 0, 0, 0, 0, 0, 0, 0],\n",
       "       [1, 0, 0, 0, 0, 0, 0, 0],\n",
       "       [1, 0, 0, 0, 0, 0, 0, 0],\n",
       "       [1, 0, 0, 0, 0, 0, 0, 0],\n",
       "       [1, 0, 0, 0, 0, 0, 0, 0],\n",
       "       [1, 0, 0, 0, 0, 0, 0, 0],\n",
       "       [1, 0, 0, 0, 0, 0, 0, 0],\n",
       "       [1, 0, 0, 0, 0, 0, 0, 0],\n",
       "       [1, 0, 0, 0, 0, 0, 0, 0],\n",
       "       [0, 1, 0, 0, 0, 0, 0, 0],\n",
       "       [0, 1, 0, 0, 0, 0, 0, 0],\n",
       "       [0, 1, 0, 0, 0, 0, 0, 0],\n",
       "       [0, 1, 0, 0, 0, 0, 0, 0],\n",
       "       [0, 1, 0, 0, 0, 0, 0, 0],\n",
       "       [0, 1, 0, 0, 0, 0, 0, 0],\n",
       "       [0, 1, 0, 0, 0, 0, 0, 0],\n",
       "       [0, 1, 0, 0, 0, 0, 0, 0],\n",
       "       [0, 1, 0, 0, 0, 0, 0, 0],\n",
       "       [0, 1, 0, 0, 0, 0, 0, 0],\n",
       "       [0, 1, 0, 0, 0, 0, 0, 0],\n",
       "       [0, 1, 0, 0, 0, 0, 0, 0],\n",
       "       [0, 1, 0, 0, 0, 0, 0, 0],\n",
       "       [0, 1, 0, 0, 0, 0, 0, 0],\n",
       "       [0, 1, 0, 0, 0, 0, 0, 0],\n",
       "       [0, 0, 1, 0, 0, 0, 0, 0],\n",
       "       [0, 0, 1, 0, 0, 0, 0, 0],\n",
       "       [0, 0, 1, 0, 0, 0, 0, 0],\n",
       "       [0, 0, 1, 0, 0, 0, 0, 0],\n",
       "       [0, 0, 1, 0, 0, 0, 0, 0],\n",
       "       [0, 0, 1, 0, 0, 0, 0, 0],\n",
       "       [0, 0, 1, 0, 0, 0, 0, 0],\n",
       "       [0, 0, 1, 0, 0, 0, 0, 0],\n",
       "       [0, 0, 1, 0, 0, 0, 0, 0],\n",
       "       [0, 0, 1, 0, 0, 0, 0, 0],\n",
       "       [0, 0, 1, 0, 0, 0, 0, 0],\n",
       "       [0, 0, 1, 0, 0, 0, 0, 0],\n",
       "       [0, 0, 1, 0, 0, 0, 0, 0],\n",
       "       [0, 0, 1, 0, 0, 0, 0, 0],\n",
       "       [0, 0, 1, 0, 0, 0, 0, 0],\n",
       "       [0, 0, 0, 1, 0, 0, 0, 0],\n",
       "       [0, 0, 0, 1, 0, 0, 0, 0],\n",
       "       [0, 0, 0, 1, 0, 0, 0, 0],\n",
       "       [0, 0, 0, 1, 0, 0, 0, 0],\n",
       "       [0, 0, 0, 1, 0, 0, 0, 0],\n",
       "       [0, 0, 0, 1, 0, 0, 0, 0],\n",
       "       [0, 0, 0, 1, 0, 0, 0, 0],\n",
       "       [0, 0, 0, 1, 0, 0, 0, 0],\n",
       "       [0, 0, 0, 1, 0, 0, 0, 0],\n",
       "       [0, 0, 0, 1, 0, 0, 0, 0],\n",
       "       [0, 0, 0, 1, 0, 0, 0, 0],\n",
       "       [0, 0, 0, 1, 0, 0, 0, 0],\n",
       "       [0, 0, 0, 1, 0, 0, 0, 0],\n",
       "       [0, 0, 0, 1, 0, 0, 0, 0],\n",
       "       [0, 0, 0, 1, 0, 0, 0, 0],\n",
       "       [0, 0, 0, 0, 1, 0, 0, 0],\n",
       "       [0, 0, 0, 0, 1, 0, 0, 0],\n",
       "       [0, 0, 0, 0, 1, 0, 0, 0],\n",
       "       [0, 0, 0, 0, 1, 0, 0, 0],\n",
       "       [0, 0, 0, 0, 1, 0, 0, 0],\n",
       "       [0, 0, 0, 0, 1, 0, 0, 0],\n",
       "       [0, 0, 0, 0, 1, 0, 0, 0],\n",
       "       [0, 0, 0, 0, 1, 0, 0, 0],\n",
       "       [0, 0, 0, 0, 1, 0, 0, 0],\n",
       "       [0, 0, 0, 0, 1, 0, 0, 0],\n",
       "       [0, 0, 0, 0, 1, 0, 0, 0],\n",
       "       [0, 0, 0, 0, 1, 0, 0, 0],\n",
       "       [0, 0, 0, 0, 1, 0, 0, 0],\n",
       "       [0, 0, 0, 0, 1, 0, 0, 0],\n",
       "       [0, 0, 0, 0, 1, 0, 0, 0],\n",
       "       [0, 0, 0, 0, 0, 1, 0, 0],\n",
       "       [0, 0, 0, 0, 0, 1, 0, 0],\n",
       "       [0, 0, 0, 0, 0, 1, 0, 0],\n",
       "       [0, 0, 0, 0, 0, 1, 0, 0],\n",
       "       [0, 0, 0, 0, 0, 1, 0, 0],\n",
       "       [0, 0, 0, 0, 0, 1, 0, 0],\n",
       "       [0, 0, 0, 0, 0, 1, 0, 0],\n",
       "       [0, 0, 0, 0, 0, 1, 0, 0],\n",
       "       [0, 0, 0, 0, 0, 1, 0, 0],\n",
       "       [0, 0, 0, 0, 0, 1, 0, 0],\n",
       "       [0, 0, 0, 0, 0, 1, 0, 0],\n",
       "       [0, 0, 0, 0, 0, 1, 0, 0],\n",
       "       [0, 0, 0, 0, 0, 1, 0, 0],\n",
       "       [0, 0, 0, 0, 0, 1, 0, 0],\n",
       "       [0, 0, 0, 0, 0, 1, 0, 0],\n",
       "       [0, 0, 0, 0, 0, 0, 1, 0],\n",
       "       [0, 0, 0, 0, 0, 0, 1, 0],\n",
       "       [0, 0, 0, 0, 0, 0, 1, 0],\n",
       "       [0, 0, 0, 0, 0, 0, 1, 0],\n",
       "       [0, 0, 0, 0, 0, 0, 1, 0],\n",
       "       [0, 0, 0, 0, 0, 0, 1, 0],\n",
       "       [0, 0, 0, 0, 0, 0, 1, 0],\n",
       "       [0, 0, 0, 0, 0, 0, 1, 0],\n",
       "       [0, 0, 0, 0, 0, 0, 1, 0],\n",
       "       [0, 0, 0, 0, 0, 0, 1, 0],\n",
       "       [0, 0, 0, 0, 0, 0, 1, 0],\n",
       "       [0, 0, 0, 0, 0, 0, 1, 0],\n",
       "       [0, 0, 0, 0, 0, 0, 1, 0],\n",
       "       [0, 0, 0, 0, 0, 0, 1, 0],\n",
       "       [0, 0, 0, 0, 0, 0, 1, 0],\n",
       "       [0, 0, 0, 0, 0, 0, 0, 1],\n",
       "       [0, 0, 0, 0, 0, 0, 0, 1],\n",
       "       [0, 0, 0, 0, 0, 0, 0, 1],\n",
       "       [0, 0, 0, 0, 0, 0, 0, 1],\n",
       "       [0, 0, 0, 0, 0, 0, 0, 1],\n",
       "       [0, 0, 0, 0, 0, 0, 0, 1],\n",
       "       [0, 0, 0, 0, 0, 0, 0, 1],\n",
       "       [0, 0, 0, 0, 0, 0, 0, 1],\n",
       "       [0, 0, 0, 0, 0, 0, 0, 1],\n",
       "       [0, 0, 0, 0, 0, 0, 0, 1],\n",
       "       [0, 0, 0, 0, 0, 0, 0, 1],\n",
       "       [0, 0, 0, 0, 0, 0, 0, 1],\n",
       "       [0, 0, 0, 0, 0, 0, 0, 1],\n",
       "       [0, 0, 0, 0, 0, 0, 0, 1],\n",
       "       [0, 0, 0, 0, 0, 0, 0, 1]])"
      ]
     },
     "execution_count": 104,
     "metadata": {},
     "output_type": "execute_result"
    }
   ],
   "source": [
    "y"
   ]
  },
  {
   "cell_type": "code",
   "execution_count": 105,
   "id": "edaaa0ea",
   "metadata": {},
   "outputs": [],
   "source": [
    "x_train, x_test, y_train, y_test = train_test_split(x,y, test_size=0.2)"
   ]
  },
  {
   "cell_type": "code",
   "execution_count": 113,
   "id": "cdc646ee",
   "metadata": {},
   "outputs": [
    {
     "data": {
      "text/plain": [
       "(96, 15, 1662)"
      ]
     },
     "execution_count": 113,
     "metadata": {},
     "output_type": "execute_result"
    }
   ],
   "source": [
    "x_train.shape"
   ]
  },
  {
   "cell_type": "markdown",
   "id": "144f6c21",
   "metadata": {},
   "source": [
    "# Build and Train Test LSTM Neural Network"
   ]
  },
  {
   "cell_type": "code",
   "execution_count": 111,
   "id": "0810f008",
   "metadata": {},
   "outputs": [],
   "source": [
    "from tensorflow.keras.models import Sequential\n",
    "from tensorflow.keras.layers import LSTM, Dense\n",
    "from tensorflow.keras.callbacks import TensorBoard"
   ]
  },
  {
   "cell_type": "code",
   "execution_count": 112,
   "id": "057d1698",
   "metadata": {},
   "outputs": [],
   "source": [
    "log_dir = os.path.join('Logs')\n",
    "tb_callback = TensorBoard(log_dir=log_dir)"
   ]
  },
  {
   "cell_type": "code",
   "execution_count": 162,
   "id": "bd481e7d",
   "metadata": {},
   "outputs": [],
   "source": [
    "model = Sequential()\n",
    "model.add(LSTM(64, return_sequences=True, activation='relu', input_shape=(15,1662)))\n",
    "model.add(LSTM(128, return_sequences=True, activation='relu'))\n",
    "model.add(LSTM(64, return_sequences=False, activation='relu'))\n",
    "model.add(Dense(64, activation='relu'))\n",
    "model.add(Dense(32, activation='relu'))\n",
    "model.add(Dense(actions.shape[0], activation='softmax'))"
   ]
  },
  {
   "cell_type": "code",
   "execution_count": 164,
   "id": "a7077d60",
   "metadata": {},
   "outputs": [],
   "source": [
    "model.compile(optimizer='Adam', loss = 'categorical_crossentropy', metrics = ['categorical_accuracy'])"
   ]
  },
  {
   "cell_type": "code",
   "execution_count": 167,
   "id": "18fa136d",
   "metadata": {},
   "outputs": [],
   "source": [
    "from tensorflow.keras.callbacks import EarlyStopping\n",
    "early_stopping =EarlyStopping(\n",
    "    monitor = 'categorical_accuracy',\n",
    "    mode = 'auto',\n",
    "    min_delta = 0,\n",
    "    patience = 5,\n",
    "    verbose = 0, \n",
    "    restore_best_weights = True)\n",
    "\n",
    "from tensorflow.keras.callbacks import TensorBoard\n",
    "\n",
    "tensorboard_callback =TensorBoard(log_dir=log_dir, histogram_freq=1)"
   ]
  },
  {
   "cell_type": "code",
   "execution_count": 172,
   "id": "37a6c7c9",
   "metadata": {
    "scrolled": true
   },
   "outputs": [
    {
     "name": "stdout",
     "output_type": "stream",
     "text": [
      "Epoch 1/80\n",
      "3/3 [==============================] - 0s 189ms/step - loss: 0.8255 - categorical_accuracy: 0.7396\n",
      "Epoch 2/80\n",
      "3/3 [==============================] - 0s 67ms/step - loss: 0.7016 - categorical_accuracy: 0.7500\n",
      "Epoch 3/80\n",
      "3/3 [==============================] - 0s 67ms/step - loss: 0.7012 - categorical_accuracy: 0.7604\n",
      "Epoch 4/80\n",
      "3/3 [==============================] - 0s 65ms/step - loss: 0.5482 - categorical_accuracy: 0.7812\n",
      "Epoch 5/80\n",
      "3/3 [==============================] - 0s 52ms/step - loss: 0.4750 - categorical_accuracy: 0.8333\n",
      "Epoch 6/80\n",
      "3/3 [==============================] - 0s 60ms/step - loss: 0.4705 - categorical_accuracy: 0.8125\n",
      "Epoch 7/80\n",
      "3/3 [==============================] - 0s 71ms/step - loss: 0.4229 - categorical_accuracy: 0.8438\n",
      "Epoch 8/80\n",
      "3/3 [==============================] - 0s 56ms/step - loss: 0.4008 - categorical_accuracy: 0.8750\n",
      "Epoch 9/80\n",
      "3/3 [==============================] - 0s 57ms/step - loss: 3.0317 - categorical_accuracy: 0.5417\n",
      "Epoch 10/80\n",
      "3/3 [==============================] - 0s 56ms/step - loss: 1.7769 - categorical_accuracy: 0.4583\n",
      "Epoch 11/80\n",
      "3/3 [==============================] - 0s 52ms/step - loss: 1.9105 - categorical_accuracy: 0.3333\n",
      "Epoch 12/80\n",
      "3/3 [==============================] - 0s 65ms/step - loss: 1.6747 - categorical_accuracy: 0.3438\n",
      "Epoch 13/80\n",
      "3/3 [==============================] - 0s 52ms/step - loss: 1.5103 - categorical_accuracy: 0.4167\n",
      "Epoch 14/80\n",
      "3/3 [==============================] - 0s 45ms/step - loss: 1.4576 - categorical_accuracy: 0.4896\n",
      "Epoch 15/80\n",
      "3/3 [==============================] - 0s 56ms/step - loss: 1.4067 - categorical_accuracy: 0.4688\n",
      "Epoch 16/80\n",
      "3/3 [==============================] - 0s 52ms/step - loss: 1.3185 - categorical_accuracy: 0.5104\n",
      "Epoch 17/80\n",
      "3/3 [==============================] - 0s 52ms/step - loss: 1.2065 - categorical_accuracy: 0.6562\n",
      "Epoch 18/80\n",
      "3/3 [==============================] - 0s 48ms/step - loss: 1.0776 - categorical_accuracy: 0.6458\n",
      "Epoch 19/80\n",
      "3/3 [==============================] - 0s 48ms/step - loss: 0.9952 - categorical_accuracy: 0.6458\n",
      "Epoch 20/80\n",
      "3/3 [==============================] - 0s 48ms/step - loss: 0.9059 - categorical_accuracy: 0.6458\n",
      "Epoch 21/80\n",
      "3/3 [==============================] - 0s 52ms/step - loss: 0.8194 - categorical_accuracy: 0.7188\n",
      "Epoch 22/80\n",
      "3/3 [==============================] - 0s 52ms/step - loss: 0.7485 - categorical_accuracy: 0.7292\n",
      "Epoch 23/80\n",
      "3/3 [==============================] - 0s 44ms/step - loss: 0.6565 - categorical_accuracy: 0.7604\n",
      "Epoch 24/80\n",
      "3/3 [==============================] - 0s 56ms/step - loss: 0.6670 - categorical_accuracy: 0.6979\n",
      "Epoch 25/80\n",
      "3/3 [==============================] - 0s 45ms/step - loss: 0.5082 - categorical_accuracy: 0.8333\n",
      "Epoch 26/80\n",
      "3/3 [==============================] - 0s 47ms/step - loss: 0.4583 - categorical_accuracy: 0.8438\n",
      "Epoch 27/80\n",
      "3/3 [==============================] - 0s 51ms/step - loss: 0.4256 - categorical_accuracy: 0.8333\n",
      "Epoch 28/80\n",
      "3/3 [==============================] - 0s 45ms/step - loss: 0.3867 - categorical_accuracy: 0.8750\n",
      "Epoch 29/80\n",
      "3/3 [==============================] - 0s 49ms/step - loss: 0.4184 - categorical_accuracy: 0.8646\n",
      "Epoch 30/80\n",
      "3/3 [==============================] - 0s 52ms/step - loss: 0.4245 - categorical_accuracy: 0.8125\n",
      "Epoch 31/80\n",
      "3/3 [==============================] - 0s 52ms/step - loss: 0.3223 - categorical_accuracy: 0.8958\n",
      "Epoch 32/80\n",
      "3/3 [==============================] - 0s 52ms/step - loss: 0.3247 - categorical_accuracy: 0.8854\n",
      "Epoch 33/80\n",
      "3/3 [==============================] - 0s 49ms/step - loss: 0.4214 - categorical_accuracy: 0.8750\n",
      "Epoch 34/80\n",
      "3/3 [==============================] - 0s 54ms/step - loss: 0.8540 - categorical_accuracy: 0.7500\n",
      "Epoch 35/80\n",
      "3/3 [==============================] - 0s 48ms/step - loss: 0.7506 - categorical_accuracy: 0.6875\n",
      "Epoch 36/80\n",
      "3/3 [==============================] - 0s 47ms/step - loss: 0.5244 - categorical_accuracy: 0.7708\n",
      "Epoch 37/80\n",
      "3/3 [==============================] - 0s 52ms/step - loss: 0.4483 - categorical_accuracy: 0.8021\n",
      "Epoch 38/80\n",
      "3/3 [==============================] - 0s 56ms/step - loss: 0.5432 - categorical_accuracy: 0.7917\n",
      "Epoch 39/80\n",
      "3/3 [==============================] - 0s 52ms/step - loss: 0.4302 - categorical_accuracy: 0.8229\n",
      "Epoch 40/80\n",
      "3/3 [==============================] - 0s 51ms/step - loss: 0.4910 - categorical_accuracy: 0.7396\n",
      "Epoch 41/80\n",
      "3/3 [==============================] - 0s 52ms/step - loss: 0.3820 - categorical_accuracy: 0.8750\n",
      "Epoch 42/80\n",
      "3/3 [==============================] - 0s 54ms/step - loss: 0.4378 - categorical_accuracy: 0.8750\n",
      "Epoch 43/80\n",
      "3/3 [==============================] - 0s 46ms/step - loss: 0.3236 - categorical_accuracy: 0.8854\n",
      "Epoch 44/80\n",
      "3/3 [==============================] - 0s 52ms/step - loss: 0.3191 - categorical_accuracy: 0.8750\n",
      "Epoch 45/80\n",
      "3/3 [==============================] - 0s 56ms/step - loss: 0.2889 - categorical_accuracy: 0.9271\n",
      "Epoch 46/80\n",
      "3/3 [==============================] - 0s 52ms/step - loss: 0.3211 - categorical_accuracy: 0.8958\n",
      "Epoch 47/80\n",
      "3/3 [==============================] - 0s 52ms/step - loss: 0.3571 - categorical_accuracy: 0.8542\n",
      "Epoch 48/80\n",
      "3/3 [==============================] - 0s 49ms/step - loss: 0.4022 - categorical_accuracy: 0.8333\n",
      "Epoch 49/80\n",
      "3/3 [==============================] - 0s 54ms/step - loss: 0.4050 - categorical_accuracy: 0.9062\n",
      "Epoch 50/80\n",
      "3/3 [==============================] - 0s 49ms/step - loss: 0.4650 - categorical_accuracy: 0.8333\n",
      "Epoch 51/80\n",
      "3/3 [==============================] - 0s 60ms/step - loss: 0.3928 - categorical_accuracy: 0.8542\n",
      "Epoch 52/80\n",
      "3/3 [==============================] - 0s 43ms/step - loss: 0.4974 - categorical_accuracy: 0.8229\n",
      "Epoch 53/80\n",
      "3/3 [==============================] - 0s 48ms/step - loss: 0.3958 - categorical_accuracy: 0.8438\n",
      "Epoch 54/80\n",
      "3/3 [==============================] - 0s 52ms/step - loss: 0.4063 - categorical_accuracy: 0.8229\n",
      "Epoch 55/80\n",
      "3/3 [==============================] - 0s 49ms/step - loss: 0.2676 - categorical_accuracy: 0.8958\n",
      "Epoch 56/80\n",
      "3/3 [==============================] - 0s 56ms/step - loss: 0.2566 - categorical_accuracy: 0.8958\n",
      "Epoch 57/80\n",
      "3/3 [==============================] - 0s 55ms/step - loss: 0.2581 - categorical_accuracy: 0.9167\n",
      "Epoch 58/80\n",
      "3/3 [==============================] - 0s 45ms/step - loss: 0.1959 - categorical_accuracy: 0.9479\n",
      "Epoch 59/80\n",
      "3/3 [==============================] - 0s 47ms/step - loss: 0.1912 - categorical_accuracy: 0.9271\n",
      "Epoch 60/80\n",
      "3/3 [==============================] - 0s 48ms/step - loss: 0.2045 - categorical_accuracy: 0.9375\n",
      "Epoch 61/80\n",
      "3/3 [==============================] - 0s 42ms/step - loss: 0.1641 - categorical_accuracy: 0.9167\n",
      "Epoch 62/80\n",
      "3/3 [==============================] - 0s 52ms/step - loss: 0.1599 - categorical_accuracy: 0.9271\n",
      "Epoch 63/80\n",
      "3/3 [==============================] - 0s 51ms/step - loss: 0.1257 - categorical_accuracy: 0.9583\n",
      "Epoch 64/80\n",
      "3/3 [==============================] - 0s 46ms/step - loss: 0.1360 - categorical_accuracy: 0.9583\n",
      "Epoch 65/80\n",
      "3/3 [==============================] - 0s 51ms/step - loss: 0.1058 - categorical_accuracy: 0.9583\n",
      "Epoch 66/80\n",
      "3/3 [==============================] - 0s 52ms/step - loss: 0.1059 - categorical_accuracy: 0.9583\n",
      "Epoch 67/80\n",
      "3/3 [==============================] - 0s 52ms/step - loss: 0.0901 - categorical_accuracy: 0.9583\n",
      "Epoch 68/80\n",
      "3/3 [==============================] - 0s 49ms/step - loss: 0.0733 - categorical_accuracy: 0.9792\n",
      "Epoch 69/80\n",
      "3/3 [==============================] - 0s 56ms/step - loss: 0.1072 - categorical_accuracy: 0.9688\n",
      "Epoch 70/80\n",
      "3/3 [==============================] - 0s 52ms/step - loss: 0.2646 - categorical_accuracy: 0.9062\n",
      "Epoch 71/80\n",
      "3/3 [==============================] - 0s 46ms/step - loss: 0.1220 - categorical_accuracy: 0.9688\n",
      "Epoch 72/80\n",
      "3/3 [==============================] - 0s 56ms/step - loss: 0.1152 - categorical_accuracy: 0.9583\n",
      "Epoch 73/80\n",
      "3/3 [==============================] - 0s 56ms/step - loss: 0.1196 - categorical_accuracy: 0.9583\n",
      "Epoch 74/80\n",
      "3/3 [==============================] - 0s 50ms/step - loss: 0.1261 - categorical_accuracy: 0.9479\n",
      "Epoch 75/80\n"
     ]
    },
    {
     "name": "stdout",
     "output_type": "stream",
     "text": [
      "3/3 [==============================] - 0s 44ms/step - loss: 0.1144 - categorical_accuracy: 0.9479\n",
      "Epoch 76/80\n",
      "3/3 [==============================] - 0s 52ms/step - loss: 0.2804 - categorical_accuracy: 0.8854\n",
      "Epoch 77/80\n",
      "3/3 [==============================] - 0s 56ms/step - loss: 0.3157 - categorical_accuracy: 0.8542\n",
      "Epoch 78/80\n",
      "3/3 [==============================] - 0s 46ms/step - loss: 0.2480 - categorical_accuracy: 0.8854\n",
      "Epoch 79/80\n",
      "3/3 [==============================] - 0s 45ms/step - loss: 0.2708 - categorical_accuracy: 0.8958\n",
      "Epoch 80/80\n",
      "3/3 [==============================] - 0s 44ms/step - loss: 0.2328 - categorical_accuracy: 0.8958\n"
     ]
    },
    {
     "data": {
      "text/plain": [
       "<keras.callbacks.History at 0x23d4476f3a0>"
      ]
     },
     "execution_count": 172,
     "metadata": {},
     "output_type": "execute_result"
    }
   ],
   "source": [
    "model.fit(x_train, y_train, epochs=80, callbacks=tb_callback)"
   ]
  },
  {
   "cell_type": "code",
   "execution_count": 173,
   "id": "980d913d",
   "metadata": {},
   "outputs": [
    {
     "name": "stdout",
     "output_type": "stream",
     "text": [
      "The tensorboard extension is already loaded. To reload it, use:\n",
      "  %reload_ext tensorboard\n"
     ]
    },
    {
     "data": {
      "text/plain": [
       "Reusing TensorBoard on port 6006 (pid 4732), started 0:29:43 ago. (Use '!kill 4732' to kill it.)"
      ]
     },
     "metadata": {},
     "output_type": "display_data"
    },
    {
     "data": {
      "text/html": [
       "\n",
       "      <iframe id=\"tensorboard-frame-9936dab46f286e22\" width=\"100%\" height=\"800\" frameborder=\"0\">\n",
       "      </iframe>\n",
       "      <script>\n",
       "        (function() {\n",
       "          const frame = document.getElementById(\"tensorboard-frame-9936dab46f286e22\");\n",
       "          const url = new URL(\"/\", window.location);\n",
       "          const port = 6006;\n",
       "          if (port) {\n",
       "            url.port = port;\n",
       "          }\n",
       "          frame.src = url;\n",
       "        })();\n",
       "      </script>\n",
       "    "
      ],
      "text/plain": [
       "<IPython.core.display.HTML object>"
      ]
     },
     "metadata": {},
     "output_type": "display_data"
    }
   ],
   "source": [
    "%load_ext tensorboard\n",
    "%tensorboard --logdir \"C:\\Users\\jitendra\\Desktop\\projets\\Logs\\train\""
   ]
  },
  {
   "cell_type": "code",
   "execution_count": 174,
   "id": "574037ec",
   "metadata": {},
   "outputs": [
    {
     "name": "stdout",
     "output_type": "stream",
     "text": [
      "Model: \"sequential_2\"\n",
      "_________________________________________________________________\n",
      "Layer (type)                 Output Shape              Param #   \n",
      "=================================================================\n",
      "lstm_6 (LSTM)                (None, 15, 64)            442112    \n",
      "_________________________________________________________________\n",
      "lstm_7 (LSTM)                (None, 15, 128)           98816     \n",
      "_________________________________________________________________\n",
      "lstm_8 (LSTM)                (None, 64)                49408     \n",
      "_________________________________________________________________\n",
      "dense_6 (Dense)              (None, 64)                4160      \n",
      "_________________________________________________________________\n",
      "dense_7 (Dense)              (None, 32)                2080      \n",
      "_________________________________________________________________\n",
      "dense_8 (Dense)              (None, 8)                 264       \n",
      "=================================================================\n",
      "Total params: 596,840\n",
      "Trainable params: 596,840\n",
      "Non-trainable params: 0\n",
      "_________________________________________________________________\n"
     ]
    }
   ],
   "source": [
    "model.summary()"
   ]
  },
  {
   "cell_type": "markdown",
   "id": "12ff6539",
   "metadata": {},
   "source": [
    "# Predictions"
   ]
  },
  {
   "cell_type": "code",
   "execution_count": 175,
   "id": "ddcdbed7",
   "metadata": {},
   "outputs": [],
   "source": [
    "res = model.predict(x_test)"
   ]
  },
  {
   "cell_type": "code",
   "execution_count": 179,
   "id": "d3e59de7",
   "metadata": {},
   "outputs": [
    {
     "data": {
      "text/plain": [
       "'iloveyou'"
      ]
     },
     "execution_count": 179,
     "metadata": {},
     "output_type": "execute_result"
    }
   ],
   "source": [
    "actions[np.argmax(res[3])]"
   ]
  },
  {
   "cell_type": "code",
   "execution_count": 180,
   "id": "f2188aac",
   "metadata": {},
   "outputs": [
    {
     "data": {
      "text/plain": [
       "'iloveyou'"
      ]
     },
     "execution_count": 180,
     "metadata": {},
     "output_type": "execute_result"
    }
   ],
   "source": [
    "actions[np.argmax(y_test[3])]"
   ]
  },
  {
   "cell_type": "markdown",
   "id": "64cc7b2d",
   "metadata": {},
   "source": [
    "# Save Model"
   ]
  },
  {
   "cell_type": "code",
   "execution_count": 181,
   "id": "fcbbd548",
   "metadata": {},
   "outputs": [
    {
     "name": "stdout",
     "output_type": "stream",
     "text": [
      "INFO:tensorflow:Assets written to: sign_language\\assets\n"
     ]
    }
   ],
   "source": [
    "model.save('sign_language')"
   ]
  },
  {
   "cell_type": "code",
   "execution_count": 160,
   "id": "c4432fa0",
   "metadata": {},
   "outputs": [],
   "source": [
    "#del model"
   ]
  },
  {
   "cell_type": "code",
   "execution_count": 182,
   "id": "ada087a3",
   "metadata": {},
   "outputs": [
    {
     "data": {
      "text/plain": [
       "<tensorflow.python.training.tracking.util.CheckpointLoadStatus at 0x23d471eb790>"
      ]
     },
     "execution_count": 182,
     "metadata": {},
     "output_type": "execute_result"
    }
   ],
   "source": [
    "model.load_weights('sign_language')"
   ]
  },
  {
   "cell_type": "markdown",
   "id": "93eccf0b",
   "metadata": {},
   "source": [
    "# Evaluating Confuxion Matrix and Accuarcy"
   ]
  },
  {
   "cell_type": "code",
   "execution_count": 183,
   "id": "c1a3b713",
   "metadata": {},
   "outputs": [],
   "source": [
    "from sklearn.metrics import multilabel_confusion_matrix, accuracy_score"
   ]
  },
  {
   "cell_type": "code",
   "execution_count": 185,
   "id": "186be6bb",
   "metadata": {},
   "outputs": [],
   "source": [
    "yhat = model.predict(x_test)"
   ]
  },
  {
   "cell_type": "code",
   "execution_count": 186,
   "id": "a89e9d1d",
   "metadata": {},
   "outputs": [],
   "source": [
    "ytrue = np.argmax(y_test, axis=1).tolist()\n",
    "yhat = np.argmax(yhat, axis=1).tolist()"
   ]
  },
  {
   "cell_type": "code",
   "execution_count": 187,
   "id": "dec6e72d",
   "metadata": {},
   "outputs": [
    {
     "data": {
      "text/plain": [
       "array([[[23,  0],\n",
       "        [ 0,  1]],\n",
       "\n",
       "       [[16,  5],\n",
       "        [ 1,  2]],\n",
       "\n",
       "       [[22,  0],\n",
       "        [ 0,  2]],\n",
       "\n",
       "       [[18,  2],\n",
       "        [ 1,  3]],\n",
       "\n",
       "       [[22,  1],\n",
       "        [ 0,  1]],\n",
       "\n",
       "       [[21,  0],\n",
       "        [ 2,  1]],\n",
       "\n",
       "       [[19,  0],\n",
       "        [ 2,  3]],\n",
       "\n",
       "       [[18,  1],\n",
       "        [ 3,  2]]], dtype=int64)"
      ]
     },
     "execution_count": 187,
     "metadata": {},
     "output_type": "execute_result"
    }
   ],
   "source": [
    "multilabel_confusion_matrix(ytrue, yhat)"
   ]
  },
  {
   "cell_type": "code",
   "execution_count": 188,
   "id": "e1566aeb",
   "metadata": {},
   "outputs": [
    {
     "data": {
      "text/plain": [
       "0.625"
      ]
     },
     "execution_count": 188,
     "metadata": {},
     "output_type": "execute_result"
    }
   ],
   "source": [
    "accuracy_score(ytrue, yhat)"
   ]
  },
  {
   "cell_type": "code",
   "execution_count": null,
   "id": "650df673",
   "metadata": {},
   "outputs": [],
   "source": []
  }
 ],
 "metadata": {
  "kernelspec": {
   "display_name": "Python 3 (ipykernel)",
   "language": "python",
   "name": "python3"
  },
  "language_info": {
   "codemirror_mode": {
    "name": "ipython",
    "version": 3
   },
   "file_extension": ".py",
   "mimetype": "text/x-python",
   "name": "python",
   "nbconvert_exporter": "python",
   "pygments_lexer": "ipython3",
   "version": "3.9.6"
  }
 },
 "nbformat": 4,
 "nbformat_minor": 5
}
